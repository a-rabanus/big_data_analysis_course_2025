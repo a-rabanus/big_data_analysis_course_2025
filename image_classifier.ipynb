{
 "cells": [
  {
   "cell_type": "markdown",
   "id": "524798dc",
   "metadata": {},
   "source": [
    "# Image classifier approach\n",
    "\n",
    "This notebook describes my approach to image classification by some characteristics\n",
    "\n",
    "## Features\n",
    "\n",
    "### Color simmilarities\n",
    "\n",
    "- Convert rgb values to light frequency\n",
    "- plot values as curve to get color spectrum of the image\n",
    "    - bin size for counting controls precision\n",
    "- pick three highest peaks\n",
    "- find image with the most similar peak values\n",
    "\n",
    "### Feature similarities\n",
    "\n",
    "- using ```cv.approxPolyDP()``` we find primitives in the image\n",
    "    - [stackoverflow problem description](https://stackoverflow.com/questions/11424002/how-to-detect-simple-geometric-shapes-using-opencv)\n",
    "- make list of primitives with type, average color, position and size\n",
    "- compare with other images, turning on and off different similarity filters\n",
    "\n",
    "## Similarity rating\n",
    "\n",
    "Selecting the different aspects should give some normalized rating of how similar the images are."
   ]
  },
  {
   "cell_type": "markdown",
   "id": "5be1a82c",
   "metadata": {},
   "source": [
    "## Addition\n",
    "### Overall\n",
    "I agree that adding different options that the user can turn on or off would make the system more flexible.\n",
    "\n",
    "If we have time at the end, we could try building a GUI so the user can interact with these options.\n",
    "\n",
    "It could also be useful to let the user adjust settings, like how many top colors to compare (e.g., top 1, 2, 3…), or choose between histogram-based or cluster-based approaches for color comparison.\n",
    "\n",
    "\n",
    "### Some additions and thoughts:\n",
    "- not sure if \"light frequency\" == HSV? \n",
    "- I would definetly use HSV\n",
    "- we could cluster all HSV values using KMeans to find the main colors in the image. The resulting clusters would then contain both: color centers and their relative weight so that we can compare the overall color distribution in the images.\n",
    "\n",
    "\n",
    "\n",
    "### To find similarities in where those colors are located in the image:\n",
    "- we can add pixel coordinates as a feature in the KMeans clustering.\n",
    "OR \n",
    "- a blurred version of the reference image and use it as a soft mask to compare how colors are spread out in the image. --> general idea of the color layout without focusing on exact color matches.\n",
    "OR\n",
    "- (I think you mentioned something like this before) split the image into a grid and calculate the main color for each section. -> low-resolution color map to compare with maps from other images."
   ]
  },
  {
   "cell_type": "code",
   "execution_count": 1,
   "id": "0082becf",
   "metadata": {},
   "outputs": [
    {
     "ename": "SyntaxError",
     "evalue": "Expected one or more names after 'import' (3942354367.py, line 3)",
     "output_type": "error",
     "traceback": [
      "  \u001b[36mCell\u001b[39m\u001b[36m \u001b[39m\u001b[32mIn[1]\u001b[39m\u001b[32m, line 3\u001b[39m\n\u001b[31m    \u001b[39m\u001b[31mimport\u001b[39m\n           ^\n\u001b[31mSyntaxError\u001b[39m\u001b[31m:\u001b[39m Expected one or more names after 'import'\n"
     ]
    }
   ],
   "source": [
    "# imports\n",
    "\n",
    "import "
   ]
  }
 ],
 "metadata": {
  "kernelspec": {
   "display_name": "Python 3",
   "language": "python",
   "name": "python3"
  },
  "language_info": {
   "codemirror_mode": {
    "name": "ipython",
    "version": 3
   },
   "file_extension": ".py",
   "mimetype": "text/x-python",
   "name": "python",
   "nbconvert_exporter": "python",
   "pygments_lexer": "ipython3",
   "version": "3.13.2"
  }
 },
 "nbformat": 4,
 "nbformat_minor": 5
}
