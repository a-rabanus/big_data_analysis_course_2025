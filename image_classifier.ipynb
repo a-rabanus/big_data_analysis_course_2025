{
 "cells": [
  {
   "cell_type": "markdown",
   "id": "524798dc",
   "metadata": {},
   "source": [
    "# Image classifier approach\n",
    "\n",
    "This notebook describes my approach to image classification by some characteristics\n",
    "\n",
    "## Features\n",
    "\n",
    "### Color simmilarities\n",
    "\n",
    "- Convert rgb values to light frequency\n",
    "- plot values as curve to get color spectrum of the image\n",
    "    - bin size for counting controls precision\n",
    "- pick three highest peaks\n",
    "- find image with the most similar peak values\n",
    "\n",
    "### Feature similarities\n",
    "\n",
    "- using ```cv.approxPolyDP()``` we find primitives in the image\n",
    "    - [stackoverflow problem description](https://stackoverflow.com/questions/11424002/how-to-detect-simple-geometric-shapes-using-opencv)\n",
    "- make list of primitives with type, average color, position and size\n",
    "- compare with other images, turning on and off different similarity filters"
   ]
  },
  {
   "cell_type": "code",
   "execution_count": null,
   "id": "0082becf",
   "metadata": {},
   "outputs": [],
   "source": [
    "# imports\n",
    "\n",
    "import "
   ]
  }
 ],
 "metadata": {
  "kernelspec": {
   "display_name": ".venv",
   "language": "python",
   "name": "python3"
  },
  "language_info": {
   "name": "python",
   "version": "3.13.2"
  }
 },
 "nbformat": 4,
 "nbformat_minor": 5
}
